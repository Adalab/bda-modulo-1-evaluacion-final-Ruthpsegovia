{
 "cells": [
  {
   "cell_type": "code",
   "execution_count": 1,
   "id": "a0f45604",
   "metadata": {},
   "outputs": [
    {
     "data": {
      "text/plain": [
       "[{'name': 'Camisa', 'price': 20, 'quantity': 40},\n",
       " {'name': 'Pantalón', 'price': 30, 'quantity': 30},\n",
       " {'name': 'Zapatos', 'price': 50, 'quantity': 25},\n",
       " {'name': 'Chaqueta', 'price': 70, 'quantity': 15},\n",
       " {'name': 'Falda', 'price': 25, 'quantity': 20},\n",
       " {'name': 'Gorra', 'price': 10, 'quantity': 50},\n",
       " {'name': 'Bufanda', 'price': 15, 'quantity': 35},\n",
       " {'name': 'Calcetines', 'price': 5, 'quantity': 100},\n",
       " {'name': 'Cinturón', 'price': 12, 'quantity': 40},\n",
       " {'name': 'Bolso', 'price': 45, 'quantity': 18}]"
      ]
     },
     "execution_count": 1,
     "metadata": {},
     "output_type": "execute_result"
    }
   ],
   "source": [
    "#ESTRUCTURA\n",
    "# inventario (lista de diccionarios): Un atributo para almacenar los productos en el inventario. Cada\n",
    "#producto debe ser representado como un diccionario con las siguientes claves: 'name','price', y 'quantity'.\n",
    "\n",
    "#Al principio deberá ser una lista vacía. Ejemplo de como debería ser:\n",
    "[{'name': 'Camisa', 'price': 20, 'quantity': 40},\n",
    "{'name': 'Pantalón', 'price': 30, 'quantity': 30},\n",
    "{'name': 'Zapatos', 'price': 50, 'quantity': 25},\n",
    "{'name': 'Chaqueta', 'price': 70, 'quantity': 15},\n",
    "{'name': 'Falda', 'price': 25, 'quantity': 20},\n",
    "{'name': 'Gorra', 'price': 10, 'quantity': 50},\n",
    "{'name': 'Bufanda', 'price': 15, 'quantity': 35},\n",
    "{'name': 'Calcetines', 'price': 5, 'quantity': 100},\n",
    "{'name': 'Cinturón', 'price': 12, 'quantity': 40},\n",
    "{'name': 'Bolso', 'price': 45, 'quantity': 18}]"
   ]
  },
  {
   "cell_type": "code",
   "execution_count": 2,
   "id": "2e84bf60",
   "metadata": {},
   "outputs": [],
   "source": [
    "inventory = [\n",
    "    {'name': 'Camisa', 'price': 20, 'quantity': 40},\n",
    "{'name': 'Pantalón', 'price': 30, 'quantity': 30},\n",
    "{'name': 'Zapatos', 'price': 50, 'quantity': 25},\n",
    "{'name': 'Chaqueta', 'price': 70, 'quantity': 15},\n",
    "{'name': 'Falda', 'price': 25, 'quantity': 20},\n",
    "{'name': 'Gorra', 'price': 10, 'quantity': 50},\n",
    "{'name': 'Bufanda', 'price': 15, 'quantity': 35},\n",
    "{'name': 'Calcetines', 'price': 5, 'quantity': 100},\n",
    "{'name': 'Cinturón', 'price': 12, 'quantity': 40},\n",
    "{'name': 'Bolso', 'price': 45, 'quantity': 18}\n",
    "]"
   ]
  },
  {
   "cell_type": "code",
   "execution_count": 3,
   "id": "9c1c9214",
   "metadata": {},
   "outputs": [
    {
     "data": {
      "text/plain": [
       "{'Ana García': {'email': 'ana.garcia@email.com', 'purchases': []},\n",
       " 'Luis Fernández': {'email': 'luis.fernandez@email.com', 'purchases': []},\n",
       " 'María López': {'email': 'maria.lopez@email.com', 'purchases': []},\n",
       " 'Carlos Ruiz': {'email': 'carlos.ruiz@email.com', 'purchases': []},\n",
       " 'Elena Martín': {'email': 'elena.martin@email.com', 'purchases': []},\n",
       " 'Javier Torres': {'email': 'javier.torres@email.com', 'purchases': []},\n",
       " 'Lucía Sánchez': {'email': 'lucia.sanchez@email.com', 'purchases': []},\n",
       " 'Sergio Díaz': {'email': 'sergio.diaz@email.com', 'purchases': []},\n",
       " 'Diego Navarro': {'email': 'diego.navarro@email.com', 'purchases': []},\n",
       " 'Patricia Ramos': {'email': 'patricia.ramos@email.com', 'purchases': []}}"
      ]
     },
     "execution_count": 3,
     "metadata": {},
     "output_type": "execute_result"
    }
   ],
   "source": [
    "# clients (diccionario): Una estructura para llevar un registro de los clients de la tienda.\n",
    "\n",
    "{'Ana García': {'email': 'ana.garcia@email.com', 'purchases': []},\n",
    "'Luis Fernández': {'email': 'luis.fernandez@email.com', 'purchases':\n",
    "[]},'María López': {'email': 'maria.lopez@email.com', 'purchases': []},\n",
    "'Carlos Ruiz': {'email': 'carlos.ruiz@email.com', 'purchases': []},\n",
    "'Elena Martín': {'email': 'elena.martin@email.com', 'purchases': []},\n",
    "'Javier Torres': {'email': 'javier.torres@email.com', 'purchases': []},\n",
    "'Lucía Sánchez': {'email': 'lucia.sanchez@email.com', 'purchases': []},\n",
    "'Sergio Díaz': {'email': 'sergio.diaz@email.com', 'purchases': []},\n",
    "'Diego Navarro': {'email': 'diego.navarro@email.com', 'purchases': []},\n",
    "'Patricia Ramos':{'email': 'patricia.ramos@email.com', 'purchases':[]}}"
   ]
  },
  {
   "cell_type": "code",
   "execution_count": 4,
   "id": "abeedb6a",
   "metadata": {},
   "outputs": [],
   "source": [
    "clients = {\n",
    "    'Ana García': {'email': 'ana.garcia@email.com', 'purchases': []},\n",
    "    'Luis Fernández': {'email': 'luis.fernandez@email.com', 'purchases':[]},\n",
    "    'María López': {'email': 'maria.lopez@email.com', 'purchases': []},\n",
    "    'Carlos Ruiz': {'email': 'carlos.ruiz@email.com', 'purchases': []},\n",
    "    'Elena Martín': {'email': 'elena.martin@email.com', 'purchases': []},\n",
    "    'Javier Torres': {'email': 'javier.torres@email.com', 'purchases': []},\n",
    "    'Lucía Sánchez': {'email': 'lucia.sanchez@email.com', 'purchases': []},\n",
    "    'Sergio Díaz': {'email': 'sergio.diaz@email.com', 'purchases': []},\n",
    "    'Patricia Ramos': {'email': 'patricia.ramos@email.com', 'purchases': []},\n",
    "    'Diego Navarro': {'email': 'diego.navarro@email.com', 'purchases': []}\n",
    "    }\n",
    "    "
   ]
  },
  {
   "cell_type": "code",
   "execution_count": 5,
   "id": "c0e04c5f",
   "metadata": {},
   "outputs": [],
   "source": [
    "# total_sales (float): Una variable para llevar un registro de las ventas totales de la tienda.\n",
    "# Inialízala con value 0."
   ]
  },
  {
   "cell_type": "code",
   "execution_count": 6,
   "id": "0ae69870",
   "metadata": {},
   "outputs": [
    {
     "name": "stdout",
     "output_type": "stream",
     "text": [
      "<class 'float'>\n"
     ]
    }
   ],
   "source": [
    "total_sales = 0.0\n",
    "print(type(total_sales))"
   ]
  },
  {
   "cell_type": "code",
   "execution_count": 8,
   "id": "8edd84f5",
   "metadata": {},
   "outputs": [],
   "source": [
    "# FUNCIONES\n",
    "# agregar_producto(nombre, precio y cantidad) : Agrega un producto al inventario o\n",
    "# Actualiza la cantidad si ya existe. Debe recibir el nombre, precio y cantidad del producto como\n",
    "# parámetros.\n",
    "    #1 Itera a través del inventario y compara los nombres de los products con el nombre proporcionado.\n",
    "    #2 Si el producto ya existe, actualiza la quancantidad.\n",
    "    #3 Si no existe, agrega un nuevo producto al inventario."
   ]
  },
  {
   "cell_type": "code",
   "execution_count": 11,
   "id": "d083b711",
   "metadata": {},
   "outputs": [
    {
     "name": "stdout",
     "output_type": "stream",
     "text": [
      "quantity añadida al stock de gorra. Nueva quantity: 51\n",
      "[{'name': 'Camisa', 'price': 20, 'quantity': 41}, {'name': 'Pantalón', 'price': 30, 'quantity': 30}, {'name': 'Zapatos', 'price': 50, 'quantity': 25}, {'name': 'Chaqueta', 'price': 70, 'quantity': 15}, {'name': 'Falda', 'price': 25, 'quantity': 20}, {'name': 'Gorra', 'price': 10, 'quantity': 51}, {'name': 'Bufanda', 'price': 15, 'quantity': 35}, {'name': 'Calcetines', 'price': 5, 'quantity': 100}, {'name': 'Cinturón', 'price': 12, 'quantity': 40}, {'name': 'Bolso', 'price': 45, 'quantity': 18}, {'name': 'casa', 'price': 20.0, 'quantity': 1}]\n"
     ]
    }
   ],
   "source": [
    "# Diseño una funcion para **añadir producto**. Le pongo un STRIP para quitar espacios \n",
    "# y pido FLOAT e INT para dar valor al precio con decimales si procede y enteros en la cantidad.\n",
    "\n",
    "def add_product():\n",
    "    name = input(\"Introduce el nombre del product: \").strip()\n",
    "    price = float(input(\"Introduce el precio del producto: \"))\n",
    "    quantity = int(input(\"Introduce la cantidad: \"))\n",
    "    return name, price, quantity\n",
    "\n",
    "# Quiero recorrer los elementos (diccionarios) del listado de inventario por productos para comprobar \n",
    "# si lo que voy a querer añadir está o no. Asi que abro una funcion (DEF) que sumará el nuevo producto añadido\n",
    "# en la funcion anterior (input)\n",
    "# El recorrido iterativo lo hago con un bucle FOR\n",
    "      # IF... si el producto que entra coincide se añade al stock (quantity inventory). \n",
    "      # Pongo LOWER porque en las pruebas sí me discrimina mayus y minusc e interpreta producto nuevo si no es igual (prj. camisa = CAMISA)\n",
    "      # ELSE (si no) lo agregará como un nuevo producto en modo diccionario al listado inventory\n",
    "      # o como un aporte al stock existente\n",
    "\n",
    "def agregar_product(inventory, name, price, quantity):\n",
    "    for product in inventory:\n",
    "        if product[\"name\"].lower() == name.lower():\n",
    "            product[\"quantity\"] += quantity\n",
    "            return f\"quantity añadida al stock de {name}. Nueva quantity: {product['quantity']}\"\n",
    "    else:\n",
    "        nuevo_product = {\"name\": name, \"price\": price, \"quantity\": quantity}\n",
    "        inventory.append(nuevo_product)\n",
    "        return f\"product añadido: {name}\"\n",
    "\n",
    "\n",
    "name, price, quantity = add_product()\n",
    "resultado = agregar_product(inventory, name, price, quantity)\n",
    "print(resultado)\n",
    "print(inventory)"
   ]
  },
  {
   "cell_type": "code",
   "execution_count": null,
   "id": "2f4fe212",
   "metadata": {},
   "outputs": [],
   "source": [
    "# view_inventory(): Muestra el inventario de productos con sus detalles.\n",
    "    #1 Utiliza un bucle for para recorrer el inventario.\n",
    "    #2 Imprime los detalles (nombre, precio y cantidad) de cada producto.\n",
    "    #3 Debería verse:\n",
    "    #name: Camisa, price: $20, quantity: 50\n",
    "        #name: Pantalón, price: $30, quantity: 30\n",
    "        #name: Zapatos, price: $50, quantity: 40\n",
    "        #name: Camisa, price: $20, quantity: 50"
   ]
  },
  {
   "cell_type": "code",
   "execution_count": 13,
   "id": "fa13afe0",
   "metadata": {},
   "outputs": [
    {
     "name": "stdout",
     "output_type": "stream",
     "text": [
      "name: Camisa, price: $20, quantity: 41\n",
      "name: Pantalón, price: $30, quantity: 30\n",
      "name: Zapatos, price: $50, quantity: 25\n",
      "name: Chaqueta, price: $70, quantity: 15\n",
      "name: Falda, price: $25, quantity: 20\n",
      "name: Gorra, price: $10, quantity: 51\n",
      "name: Bufanda, price: $15, quantity: 35\n",
      "name: Calcetines, price: $5, quantity: 100\n",
      "name: Cinturón, price: $12, quantity: 40\n",
      "name: Bolso, price: $45, quantity: 18\n",
      "name: casa, price: $20.0, quantity: 1\n"
     ]
    }
   ],
   "source": [
    "for product in inventory :\n",
    "        name = product [\"name\"]\n",
    "        price = product [\"price\"]\n",
    "        quantity= product [\"quantity\"]\n",
    "        print(f\"name: {name}, price: ${price}, quantity: {quantity}\")"
   ]
  },
  {
   "cell_type": "code",
   "execution_count": null,
   "id": "d3037293",
   "metadata": {},
   "outputs": [],
   "source": [
    "# search_product(name): Busca un producto en el inventario por nombre y muestra sus\n",
    "#detalles si se encuentra. Debe recibir el nombre del producto como parámetro.\n",
    "    #1 Utiliza un bucle for para recorrer el inventario.\n",
    "    #2 Compara los nombres de los productos con el nombre proporcionado.\n",
    "    #3 Si se encuentra el producto, imprime sus detalles.\n",
    "    #4 Debe mostrar:\n",
    "        #name: Camisa, price: $20, quantity: 40"
   ]
  },
  {
   "cell_type": "code",
   "execution_count": 14,
   "id": "17fa5126",
   "metadata": {},
   "outputs": [
    {
     "name": "stdout",
     "output_type": "stream",
     "text": [
      "name: Falda, price: $25, quantity: 20\n"
     ]
    }
   ],
   "source": [
    "#Creo una funcion para **buscar el producto* donde FOR recorrera el listado del inventario en busca del producto. \n",
    "# STRIP elimina posibles errores por espacios\n",
    "# LOWER no discrimina (como antes) entre minusculaso mayusculas y asi no da error por este motivo el imput\n",
    "\n",
    "def search_product(name):\n",
    "    for product in inventory:\n",
    "        if product[\"name\"].lower() == name.lower():\n",
    "            print(f\"name: {product['name']}, price: ${product[\"price\"]}, quantity: {product[\"quantity\"]}\")\n",
    "            return \n",
    "    print(\"product not found.\")\n",
    "\n",
    "name_product = input (\"Introduzca el name del product que busca: \").strip()\n",
    "search_product(name_product)"
   ]
  },
  {
   "cell_type": "code",
   "execution_count": 18,
   "id": "e4d39635",
   "metadata": {},
   "outputs": [
    {
     "name": "stdout",
     "output_type": "stream",
     "text": [
      "name: casa, price: $20.0, quantity: 1\n",
      "name: Gorra, price: $10, quantity: 51\n"
     ]
    }
   ],
   "source": [
    "# *Tambien podria haberlo hecho sin una funcion (def) de modo que mas adelante no podria llamar a la operacion*.\n",
    "# *En ese caso no habria ni DEF ni RETURN sino que empezaria con el FOR...IF y print.Un booleano y BREAK para interrumpir\n",
    "# la iteracion del bucle for. ESTA OPCION LA IRE COMBINANDO EN LOS SIGUIENTES EJERCICIOS (por entrenar).\n",
    "\n",
    "for product in inventory :\n",
    "    if product[\"name\"].lower() == name.lower():\n",
    "        print(f\"name: {product['name']}, price: ${product[\"price\"]}, quantity: {product[\"quantity\"]}\")\n",
    "        found= True\n",
    "        break\n",
    "    \n",
    "name_product = input (\"Introduzca el name del product que busca: \").strip()\n",
    "search_product(name_product)"
   ]
  },
  {
   "cell_type": "code",
   "execution_count": 19,
   "id": "46efe00b",
   "metadata": {},
   "outputs": [],
   "source": [
    "#Actualizar_stock(name, quantity): Actualiza el stock de un producto en el inventario.\n",
    "#Debe recibir el nombre del producto y la qcantidad a agregar o quitar como parámetros.\n",
    "#1 Utiliza un bucle for para recorrer el inventario.\n",
    "#2 Busca el producto por nombre.\n",
    "#3 Actualiza la cantidad según la entrada del usuario.\n",
    "#4 Si el producto no esta en el inventario muestra un mensaje indicándolo."
   ]
  },
  {
   "cell_type": "code",
   "execution_count": 25,
   "id": "9c74c717",
   "metadata": {},
   "outputs": [
    {
     "name": "stdout",
     "output_type": "stream",
     "text": [
      "product not found\n"
     ]
    }
   ],
   "source": [
    "#Tenemos un **stock en el inventario** es decir, una cantidad x de productos.\n",
    "#Recibimos con **input de datos** INPUT peticion de producto \n",
    "#Ponemos un booleano: si está en inventario(TRUE) tambien pedimos cantidad.\n",
    "#Si es FALSE sabemos que no está en el inventario y devuelve mensaje\n",
    "#Usamos un bucle FOR para recorrer el inventario (una lista con diccionarios)\n",
    "#Buscamos solo por nombre (if product == product)\n",
    "      #Si coincide (IF), añadimos o quitamos (numero negativo) de la cantidad del stock\n",
    "      #Si no coincide (ELSE) damos un print de producto no encontrado\n",
    "\n",
    "name_product = input (\"Introduzca el nombre del producto que busca: \").strip()\n",
    "found = False\n",
    "\n",
    "for product in inventory:\n",
    "    if product [\"name\"].lower() == name_product.lower():\n",
    "        found = True\n",
    "        change_quantity = int(input(\"¿Cuántas unidades quiere agregar o quitar? (usE negativo para quitar):\"))\n",
    "        product [\"quantity\"]+= change_quantity\n",
    "        print(f\"Nuevo stock de {product['name']}:{product['quantity']}\")\n",
    "        break\n",
    "\n",
    "if not found:\n",
    "    print (\"product not found\")   "
   ]
  },
  {
   "cell_type": "code",
   "execution_count": 27,
   "id": "0bf48264",
   "metadata": {},
   "outputs": [],
   "source": [
    "# remove_product(name): Elimina un producto del inventario por nombre. Debe recibir el\n",
    "#nombre del producto como parámetro.\n",
    "    #1 Utiliza un bucle for para recorrer el inventario.\n",
    "    #2 Busca el producto por nombre.\n",
    "    #3 Elimina el producto del inventario si existe.\n",
    "    #4 Si el producto no esta en el inventario muestra un mensaje indicándolo."
   ]
  },
  {
   "cell_type": "code",
   "execution_count": 29,
   "id": "952a7f33",
   "metadata": {},
   "outputs": [
    {
     "name": "stdout",
     "output_type": "stream",
     "text": [
      "Este producto casa no figura en nuestro inventario\n"
     ]
    }
   ],
   "source": [
    "# Creo una funcion para **eliminar productos del inventario** cuando sean coincidentes con los del stock \n",
    "# El FOR me permite recorrer  el listado de diccionarios de productos hasta encontrar coincidencias\n",
    "# IF si coincide el nombre (lower permite no discriminar mayusc y minusc para evitar errores) eliminamos \n",
    "# el nombre (referencia) del inventario y devuelve el mensaje comunicandolo. Ahi deja de funcionar el bucle.\n",
    "# Si no lo encuentra al acabar el listado devuelve mensaje de no figurar producto en inventario\n",
    "\n",
    "def remove_product (name):\n",
    "        for product in inventory:\n",
    "                if product [\"name\"].lower() == name.lower():\n",
    "                        inventory.remove(product)\n",
    "                        return f\"product {name} eliminado de inventario correctamente\"\n",
    "        return f\"Este producto {name} no figura en nuestro inventario\"   \n",
    "\n",
    "#Y definimos con INPUT la entrada del value (name del product) que será el que busquemos\n",
    "\n",
    "name_product = input(\"Introduce el nombre del producto a eliminar: \").strip()\n",
    "resultado = remove_product(name_product)\n",
    "print(resultado)        "
   ]
  },
  {
   "cell_type": "code",
   "execution_count": 30,
   "id": "22211207",
   "metadata": {},
   "outputs": [],
   "source": [
    "# calculate_value_inventory(): Calcula y muestra el valor total del inventario.\n",
    "    #1 Utiliza un bucle for para calcular el valor total del inventario\n",
    "    #2 Itera a través del inventario y suma el valor de cada producto (precio x cantidad). Es decir,\n",
    "    #3 calcula el value total del inventario. Ejemplo:\n",
    "        # si tenemos 5 camisas que valen 5 euros\n",
    "        # y 10 calcetines que valen 1 euro\n",
    "        # este método te tiene que devolver: 35 euros\n",
    "        #valor_camisas = 5 * 5\n",
    "        #valor_calcetines = 10 * 1\n",
    "        #valor_camisas + valor_calcetines = 356"
   ]
  },
  {
   "cell_type": "code",
   "execution_count": 31,
   "id": "a4772351",
   "metadata": {},
   "outputs": [
    {
     "name": "stdout",
     "output_type": "stream",
     "text": [
      "El value total del inventory es: 7970 $\n"
     ]
    }
   ],
   "source": [
    "# Defino la funcion que usare para calcular el valor total del inventario.\n",
    "# Inicializo con variable valor_total en 0 que es acumuladora.\n",
    "#El bucle FOR recorre los elementos (diccionarios del inventario en busca de las claves que \n",
    "# queremos tomar y en cada iteracion multiplica precio y cantidad de cada producto para sacar \n",
    "# un valor total de todos\n",
    "#Por útimo pediremos hacer el print del resultado.\n",
    "#Definida la funcion la invocamos con calculate_value_inventory ()\n",
    "# *el total me cambia segun los ejercicios y ejecuciones anteriores\n",
    "# anteriores que haya hecho y que provoca variaciones en el inventario luego tambien en el total.\n",
    "\n",
    "\n",
    "def calculate_value_inventory ():\n",
    "    value_total = 0\n",
    "    \n",
    "    for product in inventory:\n",
    "        value_product = product[\"price\"] * product[\"quantity\"]\n",
    "        value_total+= value_product\n",
    "    print (f\"El value total del inventory es: {value_total} $\")\n",
    "\n",
    "calculate_value_inventory ()"
   ]
  },
  {
   "cell_type": "code",
   "execution_count": 32,
   "id": "5b56357c",
   "metadata": {},
   "outputs": [],
   "source": [
    "# realizar_compra(): Permite a un cliente realizar una compra seleccionando productos del\n",
    "#inventario. Debe interactuar con el cliente para seleccionar productos y calcular el costo total de la\n",
    "#compra.\n",
    "    #1 Utiliza un bucle while para permitir al cliente realizar múltiples compras.\n",
    "    #2 Muestra el inventario y solicita al cliente ingresar el nombre del producto que desea comprar.\n",
    "    #3 Registra los productos seleccionados en un carrito y actualiza el inventario.\n",
    "    #4 Calcula el costo total de la compra."
   ]
  },
  {
   "cell_type": "code",
   "execution_count": 42,
   "id": "32c3550b",
   "metadata": {},
   "outputs": [
    {
     "name": "stdout",
     "output_type": "stream",
     "text": [
      "\n",
      "Nuestros artículos disponibles:\n",
      "Artículo: Camisa, precio: $ 20, cantidad disponible: 41\n",
      "Artículo: Pantalón, precio: $ 30, cantidad disponible: 30\n",
      "Artículo: Zapatos, precio: $ 50, cantidad disponible: 25\n",
      "Artículo: Chaqueta, precio: $ 70, cantidad disponible: 15\n",
      "Artículo: Falda, precio: $ 25, cantidad disponible: 45\n",
      "Artículo: Gorra, precio: $ 10, cantidad disponible: 49\n",
      "Artículo: Bufanda, precio: $ 15, cantidad disponible: 35\n",
      "Artículo: Calcetines, precio: $ 5, cantidad disponible: 100\n",
      "Artículo: Cinturón, precio: $ 12, cantidad disponible: 40\n",
      "Artículo: Bolso, precio: $ 45, cantidad disponible: 18\n",
      "Artículo: Bufanda, precio: $ 15, cantidad disponible: 35\n",
      "Has añadido 3 unidades(es) de Bufanda a tu carrito\n",
      "\n",
      "El total de tu compra es: $45. Gracias por comprar con nosotras\n",
      "\n",
      "Nuestros artículos disponibles:\n",
      "Artículo: Camisa, precio: $ 20, cantidad disponible: 41\n",
      "Artículo: Pantalón, precio: $ 30, cantidad disponible: 30\n",
      "Artículo: Zapatos, precio: $ 50, cantidad disponible: 25\n",
      "Artículo: Chaqueta, precio: $ 70, cantidad disponible: 15\n",
      "Artículo: Falda, precio: $ 25, cantidad disponible: 45\n",
      "Artículo: Gorra, precio: $ 10, cantidad disponible: 49\n",
      "Artículo: Bufanda, precio: $ 15, cantidad disponible: 32\n",
      "Artículo: Calcetines, precio: $ 5, cantidad disponible: 100\n",
      "Artículo: Cinturón, precio: $ 12, cantidad disponible: 40\n",
      "Artículo: Bolso, precio: $ 45, cantidad disponible: 18\n",
      "Artículo: Gorra, precio: $ 10, cantidad disponible: 49\n",
      "Has añadido 1 unidades(es) de Gorra a tu carrito\n"
     ]
    }
   ],
   "source": [
    "# En el bucle while la booleano controlara cuándo se repite el ciclo mientras que hasta ahora en el for \n",
    "# tomaba decisiones (por ejemplo, si encontrabamos un item = True lo incluiamos y si no \n",
    "# lanzabamos el mensaje de que no existia en el inventario)\n",
    "\n",
    "#Estructura\n",
    "\n",
    "#realizar compra ():\n",
    "#    carrito vacio\n",
    "#    mientras True:\n",
    "#        mostrar inventario\n",
    "#        pedir nombre del producto /o \"no_disponible\" \n",
    "#        no_disponible:salir\n",
    "#        si disponible:\n",
    "#           pedir cantidad\n",
    "#           si hay stock:\n",
    "#               añadir a carrito y quitar de inventario\n",
    "#           si no\n",
    "#           aviso no hay stock del product\n",
    "#         si no disponible cantidad:\n",
    "#           aviso no disponible cantidad en stock\n",
    "#      calcular total carrito (cantidad por precio)\n",
    "#      total \n",
    "\n",
    "\n",
    "cart = []\n",
    "def purchase_process():\n",
    "    while True:\n",
    "         #muestra el inventario. Y al ponerlo aqui lo va a mostrar actualizado cada vez que continue la compra.\n",
    "        print(\"\\nNuestros artículos disponibles:\") \n",
    "        for product in inventory :\n",
    "            print (f\"Artículo: {product ['name']}, precio: $ {product ['price']}, cantidad disponible: {product ['quantity']}\")    \n",
    "      \n",
    "        name_item = input(\"¿Que artículo estás buscando?\").strip().lower()\n",
    "        found= False \n",
    "        \n",
    "        # partimos siempre de que NO tenemos el product por eso si lo enconramos es FALSE\n",
    "        \n",
    "        for product in inventory :\n",
    "            if product[\"name\"].lower() == name_item:\n",
    "                print (f\"Artículo: {product ['name']}, precio: $ {product ['price']}, cantidad disponible: {product ['quantity']}\")                \n",
    "                found = True\n",
    "\n",
    "                quantity = int(input(\"¿Cuántas unidades quieres comprar?:\"))\n",
    "\n",
    "                if quantity > product[\"quantity\"]:\n",
    "                    print(f\"Sólo quedan en nuestro stock {product[\"quantity\"]} unidades\")\n",
    "                else:\n",
    "                    cart.append({\n",
    "                        \"name\": product[\"name\"],\n",
    "                        \"price\": product[\"price\"],\n",
    "                        \"quantity\": quantity\n",
    "                        })\n",
    "                    product[\"quantity\"] -=quantity  \n",
    "                    print(f\"Has añadido {quantity} unidades(es) de {product[\"name\"]} a tu carrito\")\n",
    "                    \n",
    "                    #actualizamos inventario quitando las unidades solicitadas disponibles\n",
    "                            \n",
    "                break\n",
    "        \n",
    "        if not found :\n",
    "            print(\"No existe ese producto en nuestro inventario\")\n",
    "\n",
    "        continuar = input(\"¿Quieres seguir comprando en nuestra tienda? (s/n):\").strip().lower()\n",
    "        #aqui debe devolver de nuevo el inventario actualizado si la respuesta es S  \n",
    "        if continuar != \"s\":\n",
    "            break\n",
    "            \n",
    "            \n",
    "        total = 0\n",
    "        for items in cart :\n",
    "            total+= items[\"price\"] * items[\"quantity\"]\n",
    "\n",
    "        print (f\"\\nEl total de tu compra es: ${total}. Gracias por comprar con nosotras\")  \n",
    "\n",
    "purchase_process ()"
   ]
  },
  {
   "cell_type": "code",
   "execution_count": 43,
   "id": "2aec0b0b",
   "metadata": {},
   "outputs": [],
   "source": [
    "#BONUS\n",
    "# process_payment(): Procesa el pago de una compra, calcula el cambio y muestra un mensaje de confirmación.\n",
    "    #1 Utiliza un bloque try...except para manejar excepciones.\n",
    "    #2 Solicita al cliente ingresar la cantidad total y la cantidad de pago usando un input.\n",
    "    #3 Calcula el cambio y muestra un mensaje de pago exitoso o un error en caso de monto insuficiente."
   ]
  },
  {
   "cell_type": "code",
   "execution_count": null,
   "id": "623b37ae",
   "metadata": {},
   "outputs": [
    {
     "name": "stdout",
     "output_type": "stream",
     "text": [
      "Total de la compra:$ 55\n",
      "¡Gracias por su compra! Este es su cambio: $45.00\n"
     ]
    }
   ],
   "source": [
    "def process_payment(total):\n",
    "    try:\n",
    "\n",
    "# la función TRY...EXCEPT hace que se abra una accion que no se detenga aunque ocurra un error \n",
    "# (aqui que la cuantia abonada sea insuficiente).\n",
    "#En ese caso salta al EXCEPT para dar oportunidad de solucionar el error \n",
    "        \n",
    "        print(f\"Total de la compra:$ {total}\")\n",
    "        payment = float(input(\"Ingrese la cuantia a ingresar:\"))  #FLOAT para que tambien entren decimales\n",
    "        if payment < total:\n",
    "            print(f\" Error: la cuantía ingresada (${payment} es insuficiente para cubrir sus gastos de compra. Faltan ${total - payment:.2f}.\")\n",
    "        else:\n",
    "            change = payment - total\n",
    "            print(f\"¡Gracias por su compra! Este es su cambio: ${change:.2f}\")\n",
    "    \n",
    "    # aqui si la clienta o cliente no introducen una cantidad o concepto valido (float de cuantia) el sistema\n",
    "    # en vez de mostrar simplemente \"error en el sistema\", damos una respuestas *\"amable\"* y devuelve la frase para que el programa\n",
    "    # pueda seguir funcionando\n",
    "    except ValueError:\n",
    "        print(\"Error: introduzca una cantidad válida.\")\n",
    "\n",
    "# Defino TOTAL porque está dentro del proceso de compra y debo traerlo.Si no, me da error (no sabe qué es).\n",
    "# Con SUM estoy sumando todos los elementos de la lista multiplicados por la cantidad de productos \n",
    "# en el carrito anterior.\n",
    "# Luego obtengo la cantidad a pagar que es con la que trabajo en la nueva funcion aqui **procesar pago**\n",
    "\n",
    "total = sum(item[\"price\"] * item[\"quantity\"] for item in cart)\n",
    "process_payment(total)"
   ]
  },
  {
   "cell_type": "code",
   "execution_count": null,
   "id": "0b9cd5d4",
   "metadata": {},
   "outputs": [],
   "source": [
    "# agregar_client(name, email): Agrega un nuevo cliente al registro de clientes. Debe recibir \n",
    "# el nombre y el correo electrónico del cliente como parámetros.\n",
    "    #1 Agrega un cliente al diccionario de clientes con su nombre y correo electrónico."
   ]
  },
  {
   "cell_type": "code",
   "execution_count": 48,
   "id": "f3cd40b8",
   "metadata": {},
   "outputs": [
    {
     "name": "stdout",
     "output_type": "stream",
     "text": [
      "cliente Ruth añadido correctamente.\n"
     ]
    }
   ],
   "source": [
    "# Gestionamos los registros del diccionario \"clients\" . El input permite interaccionar.\n",
    "\n",
    "def agregar_client():\n",
    "    name_client = input(\"Introduce el nombre del cliente: \").strip()\n",
    "    email = input(\"Introduce el email del cliente: \").strip()\n",
    "    clients[name_client] = {\n",
    "        \"email\": email,\n",
    "        \"purchases\": []\n",
    "    }\n",
    "    print(f\"cliente {name_client} añadido correctamente.\")\n",
    "\n",
    "agregar_client()"
   ]
  },
  {
   "cell_type": "code",
   "execution_count": 49,
   "id": "b13c61a8",
   "metadata": {},
   "outputs": [],
   "source": [
    "# view_clients(): Muestra la lista de clientes registrados con sus nombres y correos electrónicos.\n",
    "    #1 Utiliza un bucle for para recorrer la base de datos de clientes.\n",
    "    #2 Imprime los detalles de cada cliente (nombre y correo electrónico)."
   ]
  },
  {
   "cell_type": "code",
   "execution_count": 50,
   "id": "fa26f56c",
   "metadata": {},
   "outputs": [
    {
     "name": "stdout",
     "output_type": "stream",
     "text": [
      "Lista de clientes registrados\n",
      "name: Ana García | Email: ana.garcia@email.com\n",
      "name: Luis Fernández | Email: luis.fernandez@email.com\n",
      "name: María López | Email: maria.lopez@email.com\n",
      "name: Carlos Ruiz | Email: carlos.ruiz@email.com\n",
      "name: Elena Martín | Email: elena.martin@email.com\n",
      "name: Javier Torres | Email: javier.torres@email.com\n",
      "name: Lucía Sánchez | Email: lucia.sanchez@email.com\n",
      "name: Sergio Díaz | Email: sergio.diaz@email.com\n",
      "name: Patricia Ramos | Email: patricia.ramos@email.com\n",
      "name: Diego Navarro | Email: diego.navarro@email.com\n",
      "name: Ruth | Email: ruth@email.com\n"
     ]
    }
   ],
   "source": [
    "# El bucle for recorre e imprime (print) el diccionario anidado *\"clientes\"*\n",
    "# .items devuelve la vista de todos los pares (clave y valor) del diccionario\n",
    "\n",
    "print(\"Lista de clientes registrados\")\n",
    "for name, data in clients.items():\n",
    "    print(f\"name: {name} | Email: {data[\"email\"]}\")"
   ]
  },
  {
   "cell_type": "code",
   "execution_count": null,
   "id": "382bb9cd",
   "metadata": {},
   "outputs": [],
   "source": [
    "# registrar_compra(name_client, cart): Registra una compra para un client,\n",
    "# actualiza las ventas totales y agrega la compra al historial del client. Debe recibir el name del\n",
    "# client y el cart de purchases como parámetros.\n",
    "    #1 Busca al client en el diccionario de clients.\n",
    "    #2 Si el client no esta en el diccionario de clients, muestra que no se puede realizar la acción\n",
    "    #por que el client no está en el diccionario.\n",
    "    #3 Calcula el total de la compra y registra la compra, incluyendo los products y el total."
   ]
  },
  {
   "cell_type": "code",
   "execution_count": null,
   "id": "fa7a66b7",
   "metadata": {},
   "outputs": [],
   "source": [
    "# view_purchases_client(name_client) : Muestra el historial de purchases de un client. Debe \n",
    "# recibir el name del client como parámetro.\n",
    "    #1 Busca al client en el diccionario de clients.\n",
    "    #2 Muestra las purchases realizadas por el client, incluyendo detalles de products y totales."
   ]
  },
  {
   "cell_type": "code",
   "execution_count": null,
   "id": "0974ff26",
   "metadata": {},
   "outputs": [],
   "source": [
    "# calculate_total_sales(): Muestra las ventas totales de la tienda.\n",
    "    #1 Suma los totales de todas las purchases realizadas y muestra el total de ventas totales en la tienda"
   ]
  },
  {
   "cell_type": "code",
   "execution_count": null,
   "id": "a5b6da50",
   "metadata": {},
   "outputs": [],
   "source": [
    "#SUPER BONUS: INTEGRACION A CLASE\n",
    "# Crea la clase Tienda Online y refactoriza todos los métodos anteriores. Mueve las estructuras globales\n",
    "#al constructor (__init__) como atributos de la instancia (self.inventory, self.clients, etc.) y\n",
    "#conviértelas en métodos de la clase, usando self.."
   ]
  }
 ],
 "metadata": {
  "kernelspec": {
   "display_name": "base",
   "language": "python",
   "name": "python3"
  },
  "language_info": {
   "codemirror_mode": {
    "name": "ipython",
    "version": 3
   },
   "file_extension": ".py",
   "mimetype": "text/x-python",
   "name": "python",
   "nbconvert_exporter": "python",
   "pygments_lexer": "ipython3",
   "version": "3.13.5"
  }
 },
 "nbformat": 4,
 "nbformat_minor": 5
}
