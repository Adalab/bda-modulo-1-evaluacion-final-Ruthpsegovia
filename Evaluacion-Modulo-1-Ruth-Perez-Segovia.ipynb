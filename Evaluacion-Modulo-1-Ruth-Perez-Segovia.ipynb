{
 "cells": [
  {
   "cell_type": "code",
   "execution_count": 1,
   "id": "a0f45604",
   "metadata": {},
   "outputs": [
    {
     "ename": "SyntaxError",
     "evalue": "invalid syntax (3894106983.py, line 5)",
     "output_type": "error",
     "traceback": [
      "\u001b[1;36m  Cell \u001b[1;32mIn[1], line 5\u001b[1;36m\u001b[0m\n\u001b[1;33m    Al principio deberá ser una lista vacía. Ejemplo de como debería ser:\u001b[0m\n\u001b[1;37m       ^\u001b[0m\n\u001b[1;31mSyntaxError\u001b[0m\u001b[1;31m:\u001b[0m invalid syntax\n"
     ]
    }
   ],
   "source": [
    "ESTRUCTURA\n",
    "# inventario (lista de diccionarios): Un atributo para almacenar los productos en el inventario. Cada\n",
    "#roducto debe ser representado como un diccionario con las siguientes claves: 'nombre','precio', y 'cantidad'.\n",
    "\n",
    "Al principio deberá ser una lista vacía. Ejemplo de como debería ser:\n",
    "[{'nombre': 'Camisa', 'precio': 20, 'cantidad': 40},\n",
    "{'nombre': 'Pantalón', 'precio': 30, 'cantidad': 30},\n",
    "{'nombre': 'Zapatos', 'precio': 50, 'cantidad': 25},\n",
    "{'nombre': 'Chaqueta', 'precio': 70, 'cantidad': 15},\n",
    "{'nombre': 'Falda', 'precio': 25, 'cantidad': 20},\n",
    "{'nombre': 'Gorra', 'precio': 10, 'cantidad': 50},\n",
    "{'nombre': 'Bufanda', 'precio': 15, 'cantidad': 35},\n",
    "{'nombre': 'Calcetines', 'precio': 5, 'cantidad': 100},\n",
    "{'nombre': 'Cinturón', 'precio': 12, 'cantidad': 40},\n",
    "{'nombre': 'Bolso', 'precio': 45, 'cantidad': 18}]"
   ]
  },
  {
   "cell_type": "code",
   "execution_count": 1,
   "id": "2e84bf60",
   "metadata": {},
   "outputs": [],
   "source": [
    "inventario = [\n",
    "    {'nombre': 'Camisa', 'precio': 20, 'cantidad': 40},\n",
    "{'nombre': 'Pantalón', 'precio': 30, 'cantidad': 30},\n",
    "{'nombre': 'Zapatos', 'precio': 50, 'cantidad': 25},\n",
    "{'nombre': 'Chaqueta', 'precio': 70, 'cantidad': 15},\n",
    "{'nombre': 'Falda', 'precio': 25, 'cantidad': 20},\n",
    "{'nombre': 'Gorra', 'precio': 10, 'cantidad': 50},\n",
    "{'nombre': 'Bufanda', 'precio': 15, 'cantidad': 35},\n",
    "{'nombre': 'Calcetines', 'precio': 5, 'cantidad': 100},\n",
    "{'nombre': 'Cinturón', 'precio': 12, 'cantidad': 40},\n",
    "{'nombre': 'Bolso', 'precio': 45, 'cantidad': 18}\n",
    "]"
   ]
  },
  {
   "cell_type": "code",
   "execution_count": null,
   "id": "9c1c9214",
   "metadata": {},
   "outputs": [
    {
     "data": {
      "text/plain": [
       "{'Ana García': {'email': 'ana.garcia@email.com', 'compras': []},\n",
       " 'Luis Fernández': {'email': 'luis.fernandez@email.com', 'compras': []},\n",
       " 'María López': {'email': 'maria.lopez@email.com', 'compras': []},\n",
       " 'Carlos Ruiz': {'email': 'carlos.ruiz@email.com', 'compras': []},\n",
       " 'Elena Martín': {'email': 'elena.martin@email.com', 'compras': []},\n",
       " 'Javier Torres': {'email': 'javier.torres@email.com', 'compras': []},\n",
       " 'Lucía Sánchez': {'email': 'lucia.sanchez@email.com', 'compras': []},\n",
       " 'Sergio Díaz': {'email': 'sergio.diaz@email.com', 'compras': []},\n",
       " 'Diego Navarro': {'email': 'diego.navarro@email.com', 'compras': []},\n",
       " 'Patricia Ramos': {'email': 'patricia.ramos@email.com', 'compras': []}}"
      ]
     },
     "execution_count": 15,
     "metadata": {},
     "output_type": "execute_result"
    },
    {
     "ename": "",
     "evalue": "",
     "output_type": "error",
     "traceback": [
      "\u001b[1;31mnotebook controller is DISPOSED. \n",
      "\u001b[1;31mVea el [registro] de Jupyter (command:jupyter.viewOutput) para obtener más detalles."
     ]
    }
   ],
   "source": [
    "# clientes (diccionario): Una estructura para llevar un registro de los clientes de la tienda.\n",
    "\n",
    "{'Ana García': {'email': 'ana.garcia@email.com', 'compras': []},\n",
    "'Luis Fernández': {'email': 'luis.fernandez@email.com', 'compras':\n",
    "[]},'María López': {'email': 'maria.lopez@email.com', 'compras': []},\n",
    "'Carlos Ruiz': {'email': 'carlos.ruiz@email.com', 'compras': []},\n",
    "'Elena Martín': {'email': 'elena.martin@email.com', 'compras': []},\n",
    "'Javier Torres': {'email': 'javier.torres@email.com', 'compras': []},\n",
    "'Lucía Sánchez': {'email': 'lucia.sanchez@email.com', 'compras': []},\n",
    "'Sergio Díaz': {'email': 'sergio.diaz@email.com', 'compras': []},\n",
    "'Diego Navarro': {'email': 'diego.navarro@email.com', 'compras': []},\n",
    "'Patricia Ramos':{'email': 'patricia.ramos@email.com', 'compras':[]}}"
   ]
  },
  {
   "cell_type": "code",
   "execution_count": 2,
   "id": "abeedb6a",
   "metadata": {},
   "outputs": [],
   "source": [
    "clientes = {\n",
    "    'Ana García': {'email': 'ana.garcia@email.com', 'compras': []},\n",
    "    'Luis Fernández': {'email': 'luis.fernandez@email.com', 'compras':[]},\n",
    "    'María López': {'email': 'maria.lopez@email.com', 'compras': []},\n",
    "    'Carlos Ruiz': {'email': 'carlos.ruiz@email.com', 'compras': []},\n",
    "    'Elena Martín': {'email': 'elena.martin@email.com', 'compras': []},\n",
    "    'Javier Torres': {'email': 'javier.torres@email.com', 'compras': []},\n",
    "    'Lucía Sánchez': {'email': 'lucia.sanchez@email.com', 'compras': []},\n",
    "    'Sergio Díaz': {'email': 'sergio.diaz@email.com', 'compras': []},\n",
    "    'Patricia Ramos': {'email': 'patricia.ramos@email.com', 'compras': []},\n",
    "    'Diego Navarro': {'email': 'diego.navarro@email.com', 'compras': []}\n",
    "    }\n",
    "    "
   ]
  },
  {
   "cell_type": "code",
   "execution_count": null,
   "id": "c0e04c5f",
   "metadata": {},
   "outputs": [
    {
     "ename": "",
     "evalue": "",
     "output_type": "error",
     "traceback": [
      "\u001b[1;31mnotebook controller is DISPOSED. \n",
      "\u001b[1;31mVea el [registro] de Jupyter (command:jupyter.viewOutput) para obtener más detalles."
     ]
    }
   ],
   "source": [
    "# ventas_totales (float): Una variable para llevar un registro de las ventas totales de la tienda.\n",
    "# Inialízala con valor 0."
   ]
  },
  {
   "cell_type": "code",
   "execution_count": 3,
   "id": "0ae69870",
   "metadata": {},
   "outputs": [],
   "source": [
    "ventas_totales = 0.0"
   ]
  },
  {
   "cell_type": "code",
   "execution_count": null,
   "id": "8edd84f5",
   "metadata": {},
   "outputs": [
    {
     "ename": "",
     "evalue": "",
     "output_type": "error",
     "traceback": [
      "\u001b[1;31mnotebook controller is DISPOSED. \n",
      "\u001b[1;31mVea el [registro] de Jupyter (command:jupyter.viewOutput) para obtener más detalles."
     ]
    }
   ],
   "source": [
    "# FUNCIONES\n",
    "# agregar_producto(nombre, precio, cantidad) : Agrega un producto al inventario o\n",
    "# Actualiza la cantidad si ya existe. Debe recibir el nombre, precio y cantidad del producto como\n",
    "# parámetros.\n",
    "    #1 Itera a través del inventario y compara los nombres de los productos con el nombre proporcionado.\n",
    "    #2 Si el producto ya existe, actualiza la cantidad.\n",
    "    #3 Si no existe, agrega un nuevo producto al inventario.\n",
    "\n",
    "\n",
    "# Quiero recorrer los elementos (diccionarios) del listado de inventario por productos para comprobar \n",
    "# si lo que voy a querer añadir está o no. Asi que abro una funcion (DEF)\n",
    "# voy a hacerlo con una variable booleana. No encontrado = TRUE. \n",
    "# El recorrido iterativo lo hago con un bucle FOR\n",
    "# IF... es TRUEN (no lo encuentra)lo añadira en cantidad y con RETURN se acaba la operacion aqui). \n",
    "# Pongo LOWER porque en las pruebas si me discrimina mayus y minusc e interpreta producto nuevo si es igual (prj. camisa = CAMISA)\n",
    "# IF ...Si al acabar el bucle lo encuentra añadimos la cantidad de ese producto\n",
    "# # ELSE (si no) lo agregará como un nuevo producto en modo diccionario al listado inventario"
   ]
  },
  {
   "cell_type": "code",
   "execution_count": 4,
   "id": "f4a02178",
   "metadata": {},
   "outputs": [],
   "source": [
    "\n",
    "def agregar_producto(nombre, precio, cantidad) :\n",
    "    encontrado_= False\n",
    "    for nuevo_producto in inventario :\n",
    "        if nuevo_producto [\"nombre\"].lower() == nombre.lower() :\n",
    "            nuevo_producto [\"cantidad\"]+= cantidad\n",
    "            return f\"cantidad añadida a stock de {nombre}\"\n",
    "                   \n",
    "    else : \n",
    "            nuevo_producto = {\"nombre\": nombre, \n",
    "                              \"precio\": precio, \n",
    "                              \"cantidad\": cantidad}\n",
    "            inventario.append(nuevo_producto)\n",
    "            return f\"Producto añadido\"   "
   ]
  },
  {
   "cell_type": "code",
   "execution_count": 5,
   "id": "e1776c2a",
   "metadata": {},
   "outputs": [],
   "source": [
    "def añadir_producto():\n",
    "    nombre = input(\"Introduce el nombre del producto: \").strip()\n",
    "    precio = float(input(\"Introduce el precio del producto: \"))\n",
    "    cantidad = int(input(\"Introduce la cantidad: \"))\n",
    "    return nombre, precio, cantidad"
   ]
  },
  {
   "cell_type": "code",
   "execution_count": 6,
   "id": "72dd5c7f",
   "metadata": {},
   "outputs": [
    {
     "name": "stdout",
     "output_type": "stream",
     "text": [
      "cantidad añadida a stock de camisa\n",
      "[{'nombre': 'Camisa', 'precio': 20, 'cantidad': 41}, {'nombre': 'Pantalón', 'precio': 30, 'cantidad': 30}, {'nombre': 'Zapatos', 'precio': 50, 'cantidad': 25}, {'nombre': 'Chaqueta', 'precio': 70, 'cantidad': 15}, {'nombre': 'Falda', 'precio': 25, 'cantidad': 20}, {'nombre': 'Gorra', 'precio': 10, 'cantidad': 50}, {'nombre': 'Bufanda', 'precio': 15, 'cantidad': 35}, {'nombre': 'Calcetines', 'precio': 5, 'cantidad': 100}, {'nombre': 'Cinturón', 'precio': 12, 'cantidad': 40}, {'nombre': 'Bolso', 'precio': 45, 'cantidad': 18}]\n"
     ]
    }
   ],
   "source": [
    "nombre, precio, cantidad = añadir_producto()\n",
    "resultado = agregar_producto(nombre, precio, cantidad)\n",
    "print(resultado)\n",
    "print(inventario)"
   ]
  },
  {
   "cell_type": "code",
   "execution_count": 7,
   "id": "2f4fe212",
   "metadata": {},
   "outputs": [],
   "source": [
    "# ver_inventario(): Muestra el inventario de productos con sus detalles.\n",
    "    #1 Utiliza un bucle for para recorrer el inventario.\n",
    "    #2 Imprime los detalles (nombre, precio, cantidad) de cada producto.\n",
    "    #3 Debería verse:\n",
    "    #Nombre: Camisa, Precio: $20, Cantidad: 50\n",
    "        #Nombre: Pantalón, Precio: $30, Cantidad: 30\n",
    "        #Nombre: Zapatos, Precio: $50, Cantidad: 40\n",
    "        #Nombre: Camisa, Precio: $20, Cantidad: 50"
   ]
  },
  {
   "cell_type": "code",
   "execution_count": 14,
   "id": "93a122f2",
   "metadata": {},
   "outputs": [],
   "source": [
    "def ver_inventario() :\n",
    "    for producto in inventario :\n",
    "        print (f\"Nombre: {producto[\"nombre\"]}, Precio: ${producto[\"precio\"]}, Cantidad:{producto[cantidad]}\") "
   ]
  },
  {
   "cell_type": "code",
   "execution_count": null,
   "id": "d3037293",
   "metadata": {},
   "outputs": [
    {
     "ename": "",
     "evalue": "",
     "output_type": "error",
     "traceback": [
      "\u001b[1;31mnotebook controller is DISPOSED. \n",
      "\u001b[1;31mVea el [registro] de Jupyter (command:jupyter.viewOutput) para obtener más detalles."
     ]
    },
    {
     "ename": "",
     "evalue": "",
     "output_type": "error",
     "traceback": [
      "\u001b[1;31mnotebook controller is DISPOSED. \n",
      "\u001b[1;31mVea el [registro] de Jupyter (command:jupyter.viewOutput) para obtener más detalles."
     ]
    }
   ],
   "source": [
    "# buscar_producto(nombre): Busca un producto en el inventario por nombre y muestra sus\n",
    "detalles si se encuentra. Debe recibir el nombre del producto como parámetro.\n",
    "    1 Utiliza un bucle for para recorrer el inventario.\n",
    "    2 Compara los nombres de los productos con el nombre proporcionado.\n",
    "    3 Si se encuentra el producto, imprime sus detalles.\n",
    "    4 Debe mostrar:\n",
    "        Nombre: Camisa, Precio: $20, Cantidad: 40"
   ]
  },
  {
   "cell_type": "code",
   "execution_count": null,
   "id": "46efe00b",
   "metadata": {},
   "outputs": [
    {
     "ename": "",
     "evalue": "",
     "output_type": "error",
     "traceback": [
      "\u001b[1;31mnotebook controller is DISPOSED. \n",
      "\u001b[1;31mVea el [registro] de Jupyter (command:jupyter.viewOutput) para obtener más detalles."
     ]
    },
    {
     "ename": "",
     "evalue": "",
     "output_type": "error",
     "traceback": [
      "\u001b[1;31mnotebook controller is DISPOSED. \n",
      "\u001b[1;31mVea el [registro] de Jupyter (command:jupyter.viewOutput) para obtener más detalles."
     ]
    }
   ],
   "source": [
    "# actualizar_stock(nombre, cantidad): Actualiza el stock de un producto en el inventario.\n",
    "Debe recibir el nombre del producto y la cantidad a agregar o quitar como parámetros.\n",
    "1 Utiliza un bucle for para recorrer el inventario.\n",
    "2 Busca el producto por nombre.\n",
    "3 Actualiza la cantidad según la entrada del usuario.\n",
    "4 Si el producto no esta en el inventario muestra un mensaje indicándolo."
   ]
  },
  {
   "cell_type": "code",
   "execution_count": null,
   "id": "0bf48264",
   "metadata": {},
   "outputs": [
    {
     "ename": "",
     "evalue": "",
     "output_type": "error",
     "traceback": [
      "\u001b[1;31mnotebook controller is DISPOSED. \n",
      "\u001b[1;31mVea el [registro] de Jupyter (command:jupyter.viewOutput) para obtener más detalles."
     ]
    },
    {
     "ename": "",
     "evalue": "",
     "output_type": "error",
     "traceback": [
      "\u001b[1;31mnotebook controller is DISPOSED. \n",
      "\u001b[1;31mVea el [registro] de Jupyter (command:jupyter.viewOutput) para obtener más detalles."
     ]
    }
   ],
   "source": [
    "# eliminar_producto(nombre): Elimina un producto del inventario por nombre. Debe recibir el\n",
    "nombre del producto como parámetro.\n",
    "    1 Utiliza un bucle for para recorrer el inventario.\n",
    "    2 Busca el producto por nombre.\n",
    "    3 Elimina el producto del inventario si existe.\n",
    "    4 Si el producto no esta en el inventario muestra un mensaje indicándolo."
   ]
  },
  {
   "cell_type": "code",
   "execution_count": null,
   "id": "22211207",
   "metadata": {},
   "outputs": [
    {
     "ename": "",
     "evalue": "",
     "output_type": "error",
     "traceback": [
      "\u001b[1;31mnotebook controller is DISPOSED. \n",
      "\u001b[1;31mVea el [registro] de Jupyter (command:jupyter.viewOutput) para obtener más detalles."
     ]
    },
    {
     "ename": "",
     "evalue": "",
     "output_type": "error",
     "traceback": [
      "\u001b[1;31mnotebook controller is DISPOSED. \n",
      "\u001b[1;31mVea el [registro] de Jupyter (command:jupyter.viewOutput) para obtener más detalles."
     ]
    }
   ],
   "source": [
    "# calcular_valor_inventario(): Calcula y muestra el valor total del inventario.\n",
    "    1 Utiliza un bucle for para calcular el valor total del inventario.\n",
    "    2 Itera a través del inventario y suma el valor de cada producto (precio x cantidad). Es decir,\n",
    "    3 calcula el valor total del inventario. Ejemplo:\n",
    "        # si tenemos 5 camisas que valen 5 euros\n",
    "        # y 10 calcetines que valen 1 euro\n",
    "        # este método te tiene que devolver: 35 euros\n",
    "        valor_camisas = 5 * 5\n",
    "        valor_calcetines = 10 * 1\n",
    "        valor_camisas + valor_calcetines = 356"
   ]
  },
  {
   "cell_type": "code",
   "execution_count": null,
   "id": "5b56357c",
   "metadata": {},
   "outputs": [
    {
     "ename": "",
     "evalue": "",
     "output_type": "error",
     "traceback": [
      "\u001b[1;31mnotebook controller is DISPOSED. \n",
      "\u001b[1;31mVea el [registro] de Jupyter (command:jupyter.viewOutput) para obtener más detalles."
     ]
    },
    {
     "ename": "",
     "evalue": "",
     "output_type": "error",
     "traceback": [
      "\u001b[1;31mnotebook controller is DISPOSED. \n",
      "\u001b[1;31mVea el [registro] de Jupyter (command:jupyter.viewOutput) para obtener más detalles."
     ]
    }
   ],
   "source": [
    "# realizar_compra(): Permite a un cliente realizar una compra seleccionando productos del\n",
    "inventario. Debe interactuar con el cliente para seleccionar productos y calcular el costo total de la\n",
    "compra.\n",
    "    1 Utiliza un bucle while para permitir al cliente realizar múltiples compras.\n",
    "    2 Muestra el inventario y solicita al cliente ingresar el nombre del producto que desea comprar.\n",
    "    3 Registra los productos seleccionados en un carrito y actualiza el inventario.\n",
    "    4 Calcula el costo total de la compra."
   ]
  },
  {
   "cell_type": "code",
   "execution_count": null,
   "id": "2aec0b0b",
   "metadata": {},
   "outputs": [
    {
     "ename": "",
     "evalue": "",
     "output_type": "error",
     "traceback": [
      "\u001b[1;31mnotebook controller is DISPOSED. \n",
      "\u001b[1;31mVea el [registro] de Jupyter (command:jupyter.viewOutput) para obtener más detalles."
     ]
    },
    {
     "ename": "",
     "evalue": "",
     "output_type": "error",
     "traceback": [
      "\u001b[1;31mnotebook controller is DISPOSED. \n",
      "\u001b[1;31mVea el [registro] de Jupyter (command:jupyter.viewOutput) para obtener más detalles."
     ]
    }
   ],
   "source": [
    "BONUS\n",
    "# procesar_pago(): Procesa el pago de una compra, calcula el cambio y muestra un mensaje de\n",
    "confirmación.\n",
    "    1 Utiliza un bloque try...except para manejar excepciones.\n",
    "    2 Solicita al cliente ingresar la cantidad total y la cantidad de pago usando un input.\n",
    "    3 Calcula el cambio y muestra un mensaje de pago exitoso o un error en caso de monto\n",
    "    insuficiente."
   ]
  },
  {
   "cell_type": "code",
   "execution_count": null,
   "id": "0b9cd5d4",
   "metadata": {},
   "outputs": [
    {
     "ename": "",
     "evalue": "",
     "output_type": "error",
     "traceback": [
      "\u001b[1;31mnotebook controller is DISPOSED. \n",
      "\u001b[1;31mVea el [registro] de Jupyter (command:jupyter.viewOutput) para obtener más detalles."
     ]
    },
    {
     "ename": "",
     "evalue": "",
     "output_type": "error",
     "traceback": [
      "\u001b[1;31mnotebook controller is DISPOSED. \n",
      "\u001b[1;31mVea el [registro] de Jupyter (command:jupyter.viewOutput) para obtener más detalles."
     ]
    }
   ],
   "source": [
    "# agregar_cliente(nombre, email): Agrega un nuevo cliente al registro de clientes. Debe recibir\n",
    "el nombre y el correo electrónico del cliente como parámetros.\n",
    "    1 Agrega un cliente al diccionario de clientes con su nombre y correo electrónico."
   ]
  },
  {
   "cell_type": "code",
   "execution_count": null,
   "id": "b13c61a8",
   "metadata": {},
   "outputs": [
    {
     "ename": "",
     "evalue": "",
     "output_type": "error",
     "traceback": [
      "\u001b[1;31mnotebook controller is DISPOSED. \n",
      "\u001b[1;31mVea el [registro] de Jupyter (command:jupyter.viewOutput) para obtener más detalles."
     ]
    },
    {
     "ename": "",
     "evalue": "",
     "output_type": "error",
     "traceback": [
      "\u001b[1;31mnotebook controller is DISPOSED. \n",
      "\u001b[1;31mVea el [registro] de Jupyter (command:jupyter.viewOutput) para obtener más detalles."
     ]
    }
   ],
   "source": [
    "# ver_clientes(): Muestra la lista de clientes registrados con sus nombres y correos electrónicos.\n",
    "    1 Utiliza un bucle for para recorrer la base de datos de clientes.\n",
    "    2 Imprime los detalles de cada cliente (nombre y correo electrónico)."
   ]
  },
  {
   "cell_type": "code",
   "execution_count": null,
   "id": "382bb9cd",
   "metadata": {},
   "outputs": [
    {
     "ename": "",
     "evalue": "",
     "output_type": "error",
     "traceback": [
      "\u001b[1;31mnotebook controller is DISPOSED. \n",
      "\u001b[1;31mVea el [registro] de Jupyter (command:jupyter.viewOutput) para obtener más detalles."
     ]
    },
    {
     "ename": "",
     "evalue": "",
     "output_type": "error",
     "traceback": [
      "\u001b[1;31mnotebook controller is DISPOSED. \n",
      "\u001b[1;31mVea el [registro] de Jupyter (command:jupyter.viewOutput) para obtener más detalles."
     ]
    }
   ],
   "source": [
    "# registrar_compra(nombre_cliente, carrito): Registra una compra para un cliente,\n",
    "actualiza las ventas totales y agrega la compra al historial del cliente. Debe recibir el nombre del\n",
    "cliente y el carrito de compras como parámetros.\n",
    "    1 Busca al cliente en el diccionario de clientes.\n",
    "    2 Si el cliente no esta en el diccionario de clientes, muestra que no se puede realizar la acción\n",
    "    por que el cliente no está en el diccionario.\n",
    "    3 Calcula el total de la compra y registra la compra, incluyendo los productos y el total."
   ]
  },
  {
   "cell_type": "code",
   "execution_count": null,
   "id": "fa7a66b7",
   "metadata": {},
   "outputs": [
    {
     "ename": "",
     "evalue": "",
     "output_type": "error",
     "traceback": [
      "\u001b[1;31mnotebook controller is DISPOSED. \n",
      "\u001b[1;31mVea el [registro] de Jupyter (command:jupyter.viewOutput) para obtener más detalles."
     ]
    },
    {
     "ename": "",
     "evalue": "",
     "output_type": "error",
     "traceback": [
      "\u001b[1;31mnotebook controller is DISPOSED. \n",
      "\u001b[1;31mVea el [registro] de Jupyter (command:jupyter.viewOutput) para obtener más detalles."
     ]
    }
   ],
   "source": [
    "# ver_compras_cliente(nombre_cliente) : Muestra el historial de compras de un cliente. Debe\n",
    "recibir el nombre del cliente como parámetro.\n",
    "    1 Busca al cliente en el diccionario de clientes.\n",
    "    2 Muestra las compras realizadas por el cliente, incluyendo detalles de productos y totales."
   ]
  },
  {
   "cell_type": "code",
   "execution_count": null,
   "id": "0974ff26",
   "metadata": {},
   "outputs": [
    {
     "ename": "",
     "evalue": "",
     "output_type": "error",
     "traceback": [
      "\u001b[1;31mnotebook controller is DISPOSED. \n",
      "\u001b[1;31mVea el [registro] de Jupyter (command:jupyter.viewOutput) para obtener más detalles."
     ]
    },
    {
     "ename": "",
     "evalue": "",
     "output_type": "error",
     "traceback": [
      "\u001b[1;31mnotebook controller is DISPOSED. \n",
      "\u001b[1;31mVea el [registro] de Jupyter (command:jupyter.viewOutput) para obtener más detalles."
     ]
    }
   ],
   "source": [
    "# calcular_ventas_totales(): Muestra las ventas totales de la tienda.\n",
    "    1 Suma los totales de todas las compras realizadas y muestra el total de ventas totales en la\n",
    "tienda"
   ]
  },
  {
   "cell_type": "code",
   "execution_count": null,
   "id": "a5b6da50",
   "metadata": {},
   "outputs": [
    {
     "ename": "",
     "evalue": "",
     "output_type": "error",
     "traceback": [
      "\u001b[1;31mnotebook controller is DISPOSED. \n",
      "\u001b[1;31mVea el [registro] de Jupyter (command:jupyter.viewOutput) para obtener más detalles."
     ]
    },
    {
     "ename": "",
     "evalue": "",
     "output_type": "error",
     "traceback": [
      "\u001b[1;31mnotebook controller is DISPOSED. \n",
      "\u001b[1;31mVea el [registro] de Jupyter (command:jupyter.viewOutput) para obtener más detalles."
     ]
    }
   ],
   "source": [
    "SUPER BONUS: INTEGRACION A CLASE\n",
    "# Crea la clase Tienda Online y refactoriza todos los métodos anteriores. Mueve las estructuras globales\n",
    "al constructor (__init__) como atributos de la instancia (self.inventario, self.clientes, etc.) y\n",
    "conviértelas en métodos de la clase, usando self.."
   ]
  }
 ],
 "metadata": {
  "kernelspec": {
   "display_name": "base",
   "language": "python",
   "name": "python3"
  },
  "language_info": {
   "codemirror_mode": {
    "name": "ipython",
    "version": 3
   },
   "file_extension": ".py",
   "mimetype": "text/x-python",
   "name": "python",
   "nbconvert_exporter": "python",
   "pygments_lexer": "ipython3",
   "version": "3.13.5"
  }
 },
 "nbformat": 4,
 "nbformat_minor": 5
}
